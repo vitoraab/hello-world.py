{
  "nbformat": 4,
  "nbformat_minor": 0,
  "metadata": {
    "colab": {
      "name": "EstruturaSequencial.ipynb",
      "provenance": [],
      "private_outputs": true,
      "collapsed_sections": [],
      "authorship_tag": "ABX9TyPKf5s65pLcad0OwWSBDstz",
      "include_colab_link": true
    },
    "kernelspec": {
      "name": "python3",
      "display_name": "Python 3"
    }
  },
  "cells": [
    {
      "cell_type": "markdown",
      "metadata": {
        "id": "view-in-github",
        "colab_type": "text"
      },
      "source": [
        "<a href=\"https://colab.research.google.com/github/vitoraab/hello-world.py/blob/master/EstruturaSequencial.ipynb\" target=\"_parent\"><img src=\"https://colab.research.google.com/assets/colab-badge.svg\" alt=\"Open In Colab\"/></a>"
      ]
    },
    {
      "cell_type": "code",
      "metadata": {
        "id": "vv8sDK4U4rx2",
        "colab_type": "code",
        "colab": {}
      },
      "source": [
        "#   Faça um programa que mostre a mensagem \"Alô mundo!\" na tela.\n",
        "\n",
        "print('Alô mundo!')"
      ],
      "execution_count": null,
      "outputs": []
    },
    {
      "cell_type": "code",
      "metadata": {
        "id": "uh3TE_eu6c8e",
        "colab_type": "code",
        "colab": {}
      },
      "source": [
        "#   Faça um programa que peça um número e então mostre a mensagem: \n",
        "# \"O número informado foi [número].\".\n",
        "\n",
        "x = input('informe um número: ')\n",
        "\n",
        "print(f'o número informado foi {x}.')"
      ],
      "execution_count": null,
      "outputs": []
    },
    {
      "cell_type": "code",
      "metadata": {
        "id": "9rWcB8hJ6yo1",
        "colab_type": "code",
        "colab": {}
      },
      "source": [
        "#   Faça um programa que peça dois números e imprima a soma.\n",
        "\n",
        "x = float(input('informe um número: '))\n",
        "y = float(input('informe outro número: '))\n",
        "\n",
        "print(f'{x} + {y} = {x + y}')"
      ],
      "execution_count": null,
      "outputs": []
    },
    {
      "cell_type": "code",
      "metadata": {
        "id": "Vfp9RwxwXWjc",
        "colab_type": "code",
        "colab": {}
      },
      "source": [
        "#   Faça um programa que peça as 4 notas bimestrais e mostre a média.\n",
        "\n",
        "nota_1 = float(input('informe a primeira nota: '))\n",
        "nota_2 = float(input('informe a segunda nota: '))\n",
        "nota_3 = float(input('informe a terceira nota: '))\n",
        "nota_4 = float(input('informe a quarta nota: '))\n",
        "\n",
        "media = (nota_1 + nota_2 + nota_3 + nota_4) / 4\n",
        "\n",
        "print(f'Dada as notas, a média bimestral é {media}.')"
      ],
      "execution_count": null,
      "outputs": []
    },
    {
      "cell_type": "code",
      "metadata": {
        "id": "rOP29wuKccGd",
        "colab_type": "code",
        "colab": {}
      },
      "source": [
        "#    Faça um programa que converta metros para centímetros.\n",
        "\n",
        "x = float(input('informe uma medida (em metros): '))\n",
        "\n",
        "print(f'{x} m é equivalente a {int(x * 100)} cm.')"
      ],
      "execution_count": null,
      "outputs": []
    },
    {
      "cell_type": "code",
      "metadata": {
        "id": "4VE7khN1dapZ",
        "colab_type": "code",
        "colab": {}
      },
      "source": [
        "#    Faça um programa que peça o raio de um círculo, calcule e mostre sua área.\n",
        "from math import pi\n",
        "\n",
        "r = float(input('informe o raio: '))\n",
        "\n",
        "a = pi * r ** 2\n",
        "\n",
        "print(f'dado o raio, a area da circuferencia é {a: .2f}.')"
      ],
      "execution_count": null,
      "outputs": []
    },
    {
      "cell_type": "code",
      "metadata": {
        "id": "VLsm8d_9gMPh",
        "colab_type": "code",
        "colab": {}
      },
      "source": [
        "#   Faça um Programa que calcule a área de um quadrado, em seguida mostre o \n",
        "# dobro desta área para o usuário.\n",
        "\n",
        "x = float(input('informe um dos lados: '))\n",
        "\n",
        "msg = f'''\n",
        "dado o lado, a area do quadrado é {x**2}, logo, o dobro da area é {x**2 * 2}.\n",
        "'''\n",
        "\n",
        "print(msg)"
      ],
      "execution_count": null,
      "outputs": []
    },
    {
      "cell_type": "code",
      "metadata": {
        "id": "IhU8WFMgiyLJ",
        "colab_type": "code",
        "colab": {}
      },
      "source": [
        "#   Faça um Programa que pergunte quanto você ganha por hora e o número de horas\n",
        "# trabalhadas no mês. Calcule e mostre o total do seu salário no referido mês.\n",
        "from math import ceil\n",
        "\n",
        "gph = float(input('informe os ganhos por hora: '))\n",
        "htpm = ceil(float(input('informe o número de horas trabalhadas: ')))\n",
        "\n",
        "msg = f'''\n",
        "dado os ganhos por hora e horas trabalhadas, o salário será de\n",
        "{gph * htpm : .2f}.\n",
        "'''\n",
        "\n",
        "print(msg)\n"
      ],
      "execution_count": null,
      "outputs": []
    },
    {
      "cell_type": "code",
      "metadata": {
        "id": "PltqX55JlS3Y",
        "colab_type": "code",
        "colab": {}
      },
      "source": [
        ""
      ],
      "execution_count": null,
      "outputs": []
    }
  ]
}